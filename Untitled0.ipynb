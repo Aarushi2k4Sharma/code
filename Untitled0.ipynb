{
  "cells": [
    {
      "cell_type": "code",
      "execution_count": null,
      "metadata": {
        "colab": {
          "base_uri": "https://localhost:8080/"
        },
        "id": "l7ddpoR3polc",
        "outputId": "d25138b5-5616-4bb1-cb13-182de57968be"
      },
      "outputs": [
        {
          "name": "stdout",
          "output_type": "stream",
          "text": [
            "Enter the value of initial principle balance=3\n",
            "Enter the value of interest rate=6\n",
            "Enter the value of number of times iintrest applied=5\n",
            "Enter the number of time period elapsed=5\n",
            "compound intrest 1090657211.4522653\n"
          ]
        }
      ],
      "source": [
        "#COMPOUND INTREST\n",
        "P=int(input(\"Enter the value of initial principle balance=\"))\n",
        "r=int(input(\"Enter the value of interest rate=\"))\n",
        "n=int(input(\"Enter the value of number of times iintrest applied=\"))\n",
        "t=int(input(\"Enter the number of time period elapsed=\"))\n",
        "A=P*(1+r/n)**(n*t)\n",
        "print(\"compound intrest\",A)"
      ]
    },
    {
      "cell_type": "code",
      "execution_count": null,
      "metadata": {
        "colab": {
          "base_uri": "https://localhost:8080/"
        },
        "id": "Vw0NqMUBo4Ys",
        "outputId": "99d069d9-a56a-4625-96bb-7b874ff0f61b"
      },
      "outputs": [
        {
          "name": "stdout",
          "output_type": "stream",
          "text": [
            "enter the value of principle6\n",
            "enter the value of rate7\n",
            "enter the value of time8\n",
            "si= 3.36\n"
          ]
        }
      ],
      "source": [
        "#simple intrest\n",
        "p=int(input(\"enter the value of principle\"))\n",
        "r=int(input(\"enter the value of rate\"))\n",
        "t=int(input(\"enter the value of time\"))\n",
        "SI= (p*r*t)/100\n",
        "print(\"si=\",SI)"
      ]
    },
    {
      "cell_type": "code",
      "execution_count": null,
      "metadata": {
        "colab": {
          "base_uri": "https://localhost:8080/"
        },
        "id": "2YU3J8HjrkOP",
        "outputId": "a0a8465e-f6e3-4e97-9aff-62cfe75e9d3a"
      },
      "outputs": [
        {
          "name": "stdout",
          "output_type": "stream",
          "text": [
            "principle amount=3\n",
            "rate of interest per annum=5\n",
            "repayment period=4\n",
            "EMI= 15.011583011583012\n"
          ]
        }
      ],
      "source": [
        "#EMI\n",
        "P=int(input(\"principle amount=\"))\n",
        "R=int(input(\"rate of interest per annum=\"))\n",
        "N=int(input(\"repayment period=\"))\n",
        "EMI= (P*R*(1+R)**N)/((1+R)**N-1)\n",
        "print(\"EMI=\",EMI)"
      ]
    },
    {
      "cell_type": "code",
      "execution_count": null,
      "metadata": {
        "colab": {
          "background_save": true
        },
        "id": "IIPuwI6xtEX3",
        "outputId": "6616f28c-72de-4e29-c927-d6538c88af99"
      },
      "outputs": [
        {
          "ename": "NameError",
          "evalue": "ignored",
          "output_type": "error",
          "traceback": [
            "\u001b[0;31m---------------------------------------------------------------------------\u001b[0m",
            "\u001b[0;31mNameError\u001b[0m                                 Traceback (most recent call last)",
            "\u001b[0;32m<ipython-input-10-cdc0d6bfdb6d>\u001b[0m in \u001b[0;36m<cell line: 3>\u001b[0;34m()\u001b[0m\n\u001b[1;32m      1\u001b[0m \u001b[0;31m#celsius to kelvin\u001b[0m\u001b[0;34m\u001b[0m\u001b[0;34m\u001b[0m\u001b[0m\n\u001b[1;32m      2\u001b[0m \u001b[0mc\u001b[0m\u001b[0;34m=\u001b[0m\u001b[0mint\u001b[0m\u001b[0;34m(\u001b[0m\u001b[0minput\u001b[0m\u001b[0;34m(\u001b[0m\u001b[0;34m\"enter the value of temperature in degree celsius\"\u001b[0m\u001b[0;34m)\u001b[0m\u001b[0;34m)\u001b[0m\u001b[0;34m\u001b[0m\u001b[0;34m\u001b[0m\u001b[0m\n\u001b[0;32m----> 3\u001b[0;31m \u001b[0mK\u001b[0m\u001b[0;34m=\u001b[0m\u001b[0;34m(\u001b[0m\u001b[0mC\u001b[0m\u001b[0;34m+\u001b[0m\u001b[0;36m273\u001b[0m\u001b[0;34m)\u001b[0m\u001b[0;34m\u001b[0m\u001b[0;34m\u001b[0m\u001b[0m\n\u001b[0m\u001b[1;32m      4\u001b[0m \u001b[0mprint\u001b[0m\u001b[0;34m(\u001b[0m\u001b[0;34m\"temperature in kelvin is\"\u001b[0m\u001b[0;34m,\u001b[0m\u001b[0mK\u001b[0m\u001b[0;34m)\u001b[0m\u001b[0;34m\u001b[0m\u001b[0;34m\u001b[0m\u001b[0m\n",
            "\u001b[0;31mNameError\u001b[0m: name 'C' is not defined"
          ]
        }
      ],
      "source": [
        "#celsius to kelvin\n",
        "c=int(input(\"enter the value of temperature in degree celsius\"))\n",
        "K=(C+273.15)\n",
        "print(\"temperature in kelvin is\",K)"
      ]
    },
    {
      "cell_type": "code",
      "source": [
        "#WAPto input a number and cehck whether it is posotive or negative\n",
        "num=int(input(\"Enter a number\"))\n",
        "if (num>0):\n",
        "  print (\"positive\")\n",
        "else:\n",
        "  print(\"negative\")\n"
      ],
      "metadata": {
        "colab": {
          "base_uri": "https://localhost:8080/"
        },
        "id": "vbFgoPzxivW0",
        "outputId": "741401c7-249a-48e9-ef2a-84359bcf149f"
      },
      "execution_count": 1,
      "outputs": [
        {
          "output_type": "stream",
          "name": "stdout",
          "text": [
            "Enter a number5\n",
            "positive\n"
          ]
        }
      ]
    },
    {
      "cell_type": "code",
      "source": [
        "num=int(input(\"enter a number\"))\n",
        "if(num%5==0 and num%3==0):\n",
        "  print(\" divisible\")\n",
        "else:\n",
        "  print(\" not divisible\")"
      ],
      "metadata": {
        "colab": {
          "base_uri": "https://localhost:8080/"
        },
        "id": "Jl77DPl2kNY1",
        "outputId": "e272b8a2-cb65-444f-ee32-e3a510d9b382"
      },
      "execution_count": 17,
      "outputs": [
        {
          "output_type": "stream",
          "name": "stdout",
          "text": [
            "enter a number15\n",
            " divisible\n"
          ]
        }
      ]
    },
    {
      "cell_type": "code",
      "source": [
        "\n",
        "Variable==int(input(\"enter the alphabet\"))\n",
        "if(variable==a,e,i,o,u):\n",
        "   print(\"its a vowel\")\n",
        "else:\n",
        "  print(\"its not vowel\")\n"
      ],
      "metadata": {
        "colab": {
          "base_uri": "https://localhost:8080/",
          "height": 235
        },
        "id": "JcypSTqnkRdM",
        "outputId": "7a649e3e-f588-472d-e096-11f91eaf6c37"
      },
      "execution_count": 23,
      "outputs": [
        {
          "output_type": "error",
          "ename": "NameError",
          "evalue": "ignored",
          "traceback": [
            "\u001b[0;31m---------------------------------------------------------------------------\u001b[0m",
            "\u001b[0;31mNameError\u001b[0m                                 Traceback (most recent call last)",
            "\u001b[0;32m<ipython-input-23-3e14946f8c80>\u001b[0m in \u001b[0;36m<cell line: 1>\u001b[0;34m()\u001b[0m\n\u001b[0;32m----> 1\u001b[0;31m \u001b[0mVariable\u001b[0m\u001b[0;34m==\u001b[0m\u001b[0mint\u001b[0m\u001b[0;34m(\u001b[0m\u001b[0minput\u001b[0m\u001b[0;34m(\u001b[0m\u001b[0;34m\"enter the alphabet\"\u001b[0m\u001b[0;34m)\u001b[0m\u001b[0;34m)\u001b[0m\u001b[0;34m\u001b[0m\u001b[0;34m\u001b[0m\u001b[0m\n\u001b[0m\u001b[1;32m      2\u001b[0m \u001b[0;32mif\u001b[0m\u001b[0;34m(\u001b[0m\u001b[0mvariable\u001b[0m\u001b[0;34m==\u001b[0m\u001b[0ma\u001b[0m\u001b[0;34m,\u001b[0m\u001b[0me\u001b[0m\u001b[0;34m,\u001b[0m\u001b[0mi\u001b[0m\u001b[0;34m,\u001b[0m\u001b[0mo\u001b[0m\u001b[0;34m,\u001b[0m\u001b[0mu\u001b[0m\u001b[0;34m)\u001b[0m\u001b[0;34m:\u001b[0m\u001b[0;34m\u001b[0m\u001b[0;34m\u001b[0m\u001b[0m\n\u001b[1;32m      3\u001b[0m    \u001b[0mprint\u001b[0m\u001b[0;34m(\u001b[0m\u001b[0;34m\"its a vowel\"\u001b[0m\u001b[0;34m)\u001b[0m\u001b[0;34m\u001b[0m\u001b[0;34m\u001b[0m\u001b[0m\n\u001b[1;32m      4\u001b[0m \u001b[0;32melse\u001b[0m\u001b[0;34m:\u001b[0m\u001b[0;34m\u001b[0m\u001b[0;34m\u001b[0m\u001b[0m\n\u001b[1;32m      5\u001b[0m   \u001b[0mprint\u001b[0m\u001b[0;34m(\u001b[0m\u001b[0;34m\"its not vowel\"\u001b[0m\u001b[0;34m)\u001b[0m\u001b[0;34m\u001b[0m\u001b[0;34m\u001b[0m\u001b[0m\n",
            "\u001b[0;31mNameError\u001b[0m: name 'Variable' is not defined"
          ]
        }
      ]
    },
    {
      "cell_type": "code",
      "source": [
        "\n",
        "#or consonant.\n",
        "ch=input(\"Enter the variable\")\n",
        "if(ch=='a' or ch=='e' or ch=='i'or ch=='o' or ch=='u'):\n",
        "  print(\"its a vowel\")\n",
        "else:\n",
        "  print(\"its a consonant\")"
      ],
      "metadata": {
        "colab": {
          "base_uri": "https://localhost:8080/"
        },
        "id": "Lni4s2CxoHw6",
        "outputId": "376df25b-7518-4e49-c801-0420ed94060d"
      },
      "execution_count": 31,
      "outputs": [
        {
          "output_type": "stream",
          "name": "stdout",
          "text": [
            "Enter the variablei\n",
            "its a vowel\n"
          ]
        }
      ]
    },
    {
      "cell_type": "code",
      "source": [
        "#or consonant.\n",
        "ch=input(\"Enter the variable\")\n",
        "if((ch=='a' and ch=='A') or (ch=='e'and ch=='E') or (ch=='i'and ch=='I')or (ch=='o' and ch=='O')or( ch=='u' and ch=='U')):\n",
        "  print(\"its a vowel\")\n",
        "else:\n",
        "  print(\"its a consonant\")"
      ],
      "metadata": {
        "id": "HygPvDg8pWST"
      },
      "execution_count": null,
      "outputs": []
    },
    {
      "cell_type": "code",
      "source": [
        "#multiple conditional statement\n",
        "if(condition):\n",
        "  #statement\n",
        "elif(condition):\n",
        "    #statement\n",
        "elif(condition):\n",
        "    #statement"
      ],
      "metadata": {
        "id": "arNVI2L7pWka"
      },
      "execution_count": null,
      "outputs": []
    },
    {
      "cell_type": "code",
      "source": [
        "marsks     grade\n",
        "90 to 100   A+\n",
        "80 to 90    A\n",
        "70 to 80    B+\n",
        "60 to 70    B\n",
        "50 to 60    C\n",
        "40 to 50    D\n",
        "30 to 40    E\n",
        "less thn 30 F\n",
        "\n",
        "num=int(input(\"Enter the marks\"))\n",
        "if(num==90-100):\n",
        "  print(\"A+\")"
      ],
      "metadata": {
        "colab": {
          "base_uri": "https://localhost:8080/",
          "height": 131
        },
        "id": "hSyEJ0MopWzz",
        "outputId": "ca1171f3-632f-44b6-bc3f-8f8530b0a23e"
      },
      "execution_count": 32,
      "outputs": [
        {
          "output_type": "error",
          "ename": "SyntaxError",
          "evalue": "ignored",
          "traceback": [
            "\u001b[0;36m  File \u001b[0;32m\"<ipython-input-32-915fac319a5c>\"\u001b[0;36m, line \u001b[0;32m1\u001b[0m\n\u001b[0;31m    marsks     grade\u001b[0m\n\u001b[0m               ^\u001b[0m\n\u001b[0;31mSyntaxError\u001b[0m\u001b[0;31m:\u001b[0m invalid syntax\n"
          ]
        }
      ]
    },
    {
      "cell_type": "code",
      "source": [
        "marks=int(input(\"Enter the marks\"))\n",
        "if(marks>=90 and marks<=100):\n",
        "  print(\"A+\")\n",
        "elif(marks>=80 and marks<=90):\n",
        "  print(\"A\")\n",
        "elif(marks>=70 and marks<=80):\n",
        "  print(\"B\")\n",
        "elif(marks>=60 and marks<=70):\n",
        "  print(\"C\")\n",
        "elif(marks>=50 and marks<=60):\n",
        "  print(\"D\")\n",
        "elif(marks>=40 and marks<=50):\n",
        "  print(\"E\")\n",
        "elif(marks>=30 and marks<=40):\n",
        "  print(\"F\")\n",
        "else(marks<=30):\n",
        "  print(\"G\")"
      ],
      "metadata": {
        "colab": {
          "base_uri": "https://localhost:8080/"
        },
        "id": "En1YYMlwpW3R",
        "outputId": "d677340a-5ef1-4adf-e0e3-e6084daf4c84"
      },
      "execution_count": 33,
      "outputs": [
        {
          "output_type": "stream",
          "name": "stdout",
          "text": [
            "Enter the marks67\n",
            "C\n"
          ]
        }
      ]
    },
    {
      "cell_type": "code",
      "source": [
        "Num1=int(input(\"Enter the number 1 = \"))\n",
        "Num2=int(input(\"Enter the number 2 = \"))\n",
        "Num3=int(input(\"Enter the number 3 = \"))\n",
        "if(Num1>Num2 and Num1>Num3):\n",
        "  print(\"Num1 is the largest\")\n",
        "elif(Num2>Num1 and Num2>Num3):\n",
        "  print(\"Num2 is the largest\")\n",
        "else:\n",
        "  print(\"Num3 is the largest\")\n"
      ],
      "metadata": {
        "colab": {
          "base_uri": "https://localhost:8080/"
        },
        "id": "aHfDppVrpXEl",
        "outputId": "eab484a1-eaf3-48f8-a913-1f6972045968"
      },
      "execution_count": 38,
      "outputs": [
        {
          "output_type": "stream",
          "name": "stdout",
          "text": [
            "Enter the number 1 = 4\n",
            "Enter the number 2 = 5\n",
            "Enter the number 3 = 6\n",
            "Num3 is the largest\n"
          ]
        }
      ]
    },
    {
      "cell_type": "code",
      "source": [
        "year=int(input(\"enter the year=\"))\n",
        "if(year%4==0):\n",
        "  print(\"its a leap year\")\n",
        "else:\n",
        "  print(\"its not a leap year\")\n"
      ],
      "metadata": {
        "colab": {
          "base_uri": "https://localhost:8080/"
        },
        "id": "Xl5BvbX_pXI3",
        "outputId": "8f8b9f58-ad73-4955-e387-0609e2bb1323"
      },
      "execution_count": 40,
      "outputs": [
        {
          "output_type": "stream",
          "name": "stdout",
          "text": [
            "enter the year=2023\n",
            "its not a leap year\n"
          ]
        }
      ]
    },
    {
      "cell_type": "code",
      "source": [
        "op=input(\"Enter the operator\")\n",
        "Num1=int(input(\"Enter the number 1 = \"))\n",
        "Num2=int(input(\"Enter the number 2 = \"))\n",
        "if(op=='+'):\n",
        "  print(Num1+Num2)\n",
        "elif(op=='-'):\n",
        "  print(Num1-Num2)\n",
        "elif(op=='/'):\n",
        "  print(Num1/Num2)\n",
        "elif(op=='*'):\n",
        "  print(Num1*Num2)\n",
        "else:\n",
        "  print(\"Nothing\")"
      ],
      "metadata": {
        "colab": {
          "base_uri": "https://localhost:8080/"
        },
        "id": "PSR5PQblpXKK",
        "outputId": "fd15c60d-a4a6-4416-ea87-ddf66cb4ba8f"
      },
      "execution_count": 50,
      "outputs": [
        {
          "output_type": "stream",
          "name": "stdout",
          "text": [
            "Enter the operator/\n",
            "Enter the number 1 = 36\n",
            "Enter the number 2 = 9\n",
            "4.0\n"
          ]
        }
      ]
    },
    {
      "cell_type": "code",
      "source": [],
      "metadata": {
        "id": "su0LHzMn0xjS"
      },
      "execution_count": null,
      "outputs": []
    },
    {
      "cell_type": "markdown",
      "source": [
        "# New Section"
      ],
      "metadata": {
        "id": "2d_VECBE5gk0"
      }
    },
    {
      "cell_type": "code",
      "source": [],
      "metadata": {
        "id": "6yAfAxFk0xfm"
      },
      "execution_count": null,
      "outputs": []
    },
    {
      "cell_type": "code",
      "source": [],
      "metadata": {
        "id": "5nypW1O60xdK"
      },
      "execution_count": null,
      "outputs": []
    },
    {
      "cell_type": "code",
      "source": [],
      "metadata": {
        "id": "vWwWbMky0xaX"
      },
      "execution_count": null,
      "outputs": []
    },
    {
      "cell_type": "code",
      "source": [],
      "metadata": {
        "id": "MoCE0ikf0xXh"
      },
      "execution_count": null,
      "outputs": []
    },
    {
      "cell_type": "code",
      "source": [],
      "metadata": {
        "id": "dinIkarp0xUi"
      },
      "execution_count": null,
      "outputs": []
    },
    {
      "cell_type": "code",
      "source": [],
      "metadata": {
        "id": "Cw4XDd2OpXMj"
      },
      "execution_count": null,
      "outputs": []
    },
    {
      "cell_type": "code",
      "source": [],
      "metadata": {
        "id": "QcdZNhy2pXRJ"
      },
      "execution_count": null,
      "outputs": []
    }
  ],
  "metadata": {
    "colab": {
      "provenance": []
    },
    "kernelspec": {
      "display_name": "Python 3",
      "name": "python3"
    },
    "language_info": {
      "name": "python"
    }
  },
  "nbformat": 4,
  "nbformat_minor": 0
}